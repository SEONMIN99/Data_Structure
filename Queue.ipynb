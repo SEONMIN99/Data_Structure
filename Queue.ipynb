{
  "nbformat": 4,
  "nbformat_minor": 0,
  "metadata": {
    "colab": {
      "name": "Queue.ipynb",
      "version": "0.3.2",
      "provenance": [],
      "collapsed_sections": []
    },
    "kernelspec": {
      "name": "python3",
      "display_name": "Python 3"
    }
  },
  "cells": [
    {
      "metadata": {
        "id": "heHxftgm0C_D",
        "colab_type": "code",
        "outputId": "c319e724-70b5-495c-911d-469229123802",
        "colab": {
          "base_uri": "https://localhost:8080/",
          "height": 215
        }
      },
      "cell_type": "code",
      "source": [
        "class Node:\n",
        "  \n",
        "  def __init__(self, data):\n",
        "    self.data = data\n",
        "    self.prev = None\n",
        "    \n",
        "  def get_data(self):\n",
        "    return self.data\n",
        "  \n",
        "  def get_prev(self):\n",
        "    return self.prev\n",
        "  \n",
        "  def set_prev(self, prev):\n",
        "    self.prev = prev\n",
        "    \n",
        "class Queue:\n",
        "  \n",
        "queue = Queue()\n",
        "queue.enqueue(\"Apple\")\n",
        "queue.enqueue(\"Kiwi\")\n",
        "queue.enqueue(\"Banana\")\n",
        "queue.print_queue()\n",
        "\n",
        "node = queue.dequeue()\n",
        "print(\"Dequeue: \" + node.get_data())\n",
        "node = queue.dequeue()\n",
        "print(\"Dequeue: \" + node.get_data())\n",
        "\n",
        "queue.enqueue(\"Melon\")\n",
        "queue.print_queue()\n"
      ],
      "execution_count": 0,
      "outputs": [
        {
          "output_type": "stream",
          "text": [
            ">> current queue\n",
            "Apple\n",
            "Kiwi\n",
            "Banana\n",
            ">>>>>>>>>>>>>>>>\n",
            "Dequeue: Apple\n",
            "Dequeue: Kiwi\n",
            ">> current queue\n",
            "Banana\n",
            "Melon\n",
            ">>>>>>>>>>>>>>>>\n"
          ],
          "name": "stdout"
        }
      ]
    }
  ]
}