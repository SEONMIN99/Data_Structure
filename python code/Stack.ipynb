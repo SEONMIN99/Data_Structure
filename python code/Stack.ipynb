{
  "nbformat": 4,
  "nbformat_minor": 0,
  "metadata": {
    "colab": {
      "name": "Stack.ipynb",
      "version": "0.3.2",
      "provenance": [],
      "collapsed_sections": []
    },
    "kernelspec": {
      "name": "python3",
      "display_name": "Python 3"
    }
  },
  "cells": [
    {
      "metadata": {
        "id": "4dBiFrGDl3Qj",
        "colab_type": "code",
        "colab": {}
      },
      "cell_type": "code",
      "source": [
        "class Node:\n",
        "  \n",
        "  def __init__(self, data):\n",
        "    self.data = data\n",
        "    self.next = None\n",
        "    \n",
        "  def get_data(self):\n",
        "    return self.data\n",
        "  \n",
        "  def get_next(self):\n",
        "    return self.next\n",
        "  \n",
        "  def set_next(self, next):\n",
        "    self.next = next\n",
        "    \n",
        "class Stack:\n",
        "  \n",
        "  def __init__(self):\n",
        "    self.top = None\n",
        "    self.size = 0\n",
        "  \n",
        "  def push(self, data):\n",
        "    new_node = Node(data)\n",
        "    self.size += 1\n",
        "    if self.top is None:\n",
        "      self.top = new_node\n",
        "    else:\n",
        "      new_node.set_next(self.top)\n",
        "      self.top = new_node\n",
        "\n",
        "  def print_stack(self):\n",
        "    print(\">> current stack\")\n",
        "    node = self.top\n",
        "    while node is not None:\n",
        "      print(node.get_data())\n",
        "      node = node.get_next()\n",
        "    print(\">>>>>>>>>>>>>>>>\")\n",
        "  \n",
        "  def pop(self):\n",
        "    node = self.top\n",
        "    if node is not None:\n",
        "      self.top = node.get_next()\n",
        "      self.size -= 1\n",
        "    return node\n",
        "  \n",
        "  def get_size(self):\n",
        "    return self.size"
      ],
      "execution_count": 0,
      "outputs": []
    }
  ]
}